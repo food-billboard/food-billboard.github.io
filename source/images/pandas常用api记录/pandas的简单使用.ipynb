{
 "cells": [
  {
   "cell_type": "code",
   "execution_count": 2,
   "id": "ca23061b",
   "metadata": {},
   "outputs": [],
   "source": [
    "# 引入\n",
    "import pandas as pd\n",
    "import numpy as np"
   ]
  },
  {
   "cell_type": "code",
   "execution_count": 3,
   "id": "4f1c240c",
   "metadata": {},
   "outputs": [
    {
     "name": "stdout",
     "output_type": "stream",
     "text": [
      "0     1.0\n",
      "1     2.0\n",
      "2     3.0\n",
      "3     NaN\n",
      "4    19.0\n",
      "dtype: float64\n",
      "----\n",
      "1     1.0\n",
      "2     2.0\n",
      "3     3.0\n",
      "4     NaN\n",
      "5    19.0\n",
      "dtype: float64\n",
      "----\n",
      "     name  age    job\n",
      "0  Daniel    4     it\n",
      "1     Sam    5  clean\n",
      "2    Jack    6   cook\n",
      "3    Mike    8     it\n",
      "----\n",
      "     name  age    job\n",
      "1  Daniel    4     it\n",
      "2     Sam    5  clean\n",
      "3    Jack    6   cook\n",
      "4    Mike    8     it\n",
      "----\n",
      "     name age    job\n",
      "0  Daniel   4     it\n",
      "1     Sam   5  clean\n",
      "2    Jack   6   cook\n",
      "3    Mike   8     it\n"
     ]
    }
   ],
   "source": [
    "# 变量\n",
    "normal_array = [1, 2, 3, np.nan, 19]\n",
    "normal_obj = {\n",
    "    \"name\": ['Daniel', 'Sam', 'Jack', 'Mike'],\n",
    "    \"age\": [4, 5, 6, 8],\n",
    "    \"job\": ['it', 'clean', 'cook', 'it']\n",
    "}\n",
    "numpy_array = np.array([\n",
    "    ['Daniel', 4, 'it'], \n",
    "    [\"Sam\", 5, 'clean'], \n",
    "    ['Jack', 6, 'cook'],\n",
    "    ['Mike', 8, 'it']\n",
    "])\n",
    "series = pd.Series(normal_array)\n",
    "series_index = pd.Series(normal_array, index=[1, 2, 3, 4, 5])\n",
    "data_frame = pd.DataFrame(normal_obj)\n",
    "data_frame_index = pd.DataFrame(normal_obj, index=[1, 2, 3, 4])\n",
    "numpy_frame_index = pd.DataFrame(numpy_array, columns=[\"name\", \"age\", \"job\"])\n",
    "print(series)\n",
    "print('----')\n",
    "print(series_index)\n",
    "print('----')\n",
    "print(data_frame)\n",
    "print('----')\n",
    "print(data_frame_index)\n",
    "print('----')\n",
    "print(numpy_frame_index)"
   ]
  },
  {
   "cell_type": "code",
   "execution_count": 4,
   "id": "1bf5a8b3",
   "metadata": {},
   "outputs": [
    {
     "name": "stdout",
     "output_type": "stream",
     "text": [
      "0    Daniel\n",
      "1       Sam\n",
      "2      Jack\n",
      "3      Mike\n",
      "Name: name, dtype: object\n",
      "-----\n",
      "     name  age    job\n",
      "0  Daniel    4     it\n",
      "1     Sam    5  clean\n",
      "---\n",
      "   name  age    job\n",
      "1   Sam    5  clean\n",
      "2  Jack    6   cook\n",
      "3  Mike    8     it\n",
      "---\n",
      "     name    job\n",
      "0  Daniel     it\n",
      "1     Sam  clean\n",
      "2    Jack   cook\n",
      "3    Mike     it\n",
      "----\n",
      "     name  age    job\n",
      "0  Daniel    4     it\n",
      "1     Sam    5  clean\n",
      "----\n",
      "clean\n"
     ]
    }
   ],
   "source": [
    "# 取值\n",
    "# 取name 列\n",
    "print(data_frame['name'])\n",
    "print('-----')\n",
    "# 取 0、1 行\n",
    "print(data_frame[0:2])\n",
    "print('---')\n",
    "# 取 age > 4 的行\n",
    "print(data_frame[data_frame['age'] > 4])\n",
    "print('---')\n",
    "# 取 name 和 job 列的数据 (显式索引)\n",
    "print(data_frame.loc[:, ['name', 'job']])\n",
    "print('----')\n",
    "# 隐式索引\n",
    "print(data_frame.iloc[0:2])\n",
    "print('----')\n",
    "# 第一行的 job\n",
    "print(data_frame.at[1, 'job'])"
   ]
  },
  {
   "cell_type": "code",
   "execution_count": 5,
   "id": "8c4ae872",
   "metadata": {},
   "outputs": [
    {
     "name": "stdout",
     "output_type": "stream",
     "text": [
      "5.75\n",
      "----\n",
      "job\n",
      "clean    5.0\n",
      "cook     6.0\n",
      "it       6.0\n",
      "Name: age, dtype: float64\n",
      "---\n",
      "            age\n",
      "count  4.000000\n",
      "mean   5.750000\n",
      "std    1.707825\n",
      "min    4.000000\n",
      "25%    4.750000\n",
      "50%    5.500000\n",
      "75%    6.500000\n",
      "max    8.000000\n"
     ]
    }
   ],
   "source": [
    "# 统计\n",
    "print(data_frame['age'].mean())\n",
    "print('----')\n",
    "print(data_frame.groupby('job')['age'].mean())\n",
    "print('---')\n",
    "# 统计 总数、均值、标准差、最小值、最大值等等\n",
    "print(data_frame.describe())"
   ]
  },
  {
   "cell_type": "code",
   "execution_count": 6,
   "id": "28b44d43",
   "metadata": {},
   "outputs": [
    {
     "name": "stdout",
     "output_type": "stream",
     "text": [
      "     name  age    job       hobby\n",
      "0  Daniel    4     it    baseball\n",
      "1     Sam    5  clean   scoreball\n",
      "2    Jack    6   cook    pingpang\n",
      "3    Mike    8     it  basketball\n",
      "-----\n",
      "     name  age    job\n",
      "0  Daniel    4     it\n",
      "1     Sam    5  clean\n",
      "2    Jack    6   cook\n",
      "3    Mike    8     it\n",
      "-----\n",
      "     name  age    job\n",
      "0  Daniel    4     it\n",
      "1     Sam  100  clean\n",
      "2    Jack    6   cook\n",
      "3    Mike    8     it\n",
      "-----\n",
      "     name  age   job\n",
      "0  Daniel    4    it\n",
      "2    Jack    6  cook\n"
     ]
    }
   ],
   "source": [
    "# 修改 增删改查\n",
    "# 增\n",
    "data_frame['hobby'] = ['baseball', 'scoreball', 'pingpang', 'basketball']\n",
    "print(data_frame)\n",
    "print('-----')\n",
    "# 删\n",
    "data_frame.drop(\"hobby\", axis=1, inplace=True)\n",
    "print(data_frame)\n",
    "print('-----')\n",
    "# 改\n",
    "data_frame.loc[1, 'age'] = 100\n",
    "print(data_frame)\n",
    "print('-----')\n",
    "# 查\n",
    "print(data_frame[data_frame['age'] < 8])"
   ]
  },
  {
   "cell_type": "code",
   "execution_count": null,
   "id": "510db8ca",
   "metadata": {},
   "outputs": [],
   "source": []
  }
 ],
 "metadata": {
  "kernelspec": {
   "display_name": "Python 3 (ipykernel)",
   "language": "python",
   "name": "python3"
  },
  "language_info": {
   "codemirror_mode": {
    "name": "ipython",
    "version": 3
   },
   "file_extension": ".py",
   "mimetype": "text/x-python",
   "name": "python",
   "nbconvert_exporter": "python",
   "pygments_lexer": "ipython3",
   "version": "3.11.4"
  }
 },
 "nbformat": 4,
 "nbformat_minor": 5
}

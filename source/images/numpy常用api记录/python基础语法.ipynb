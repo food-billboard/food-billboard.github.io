{
 "cells": [
  {
   "cell_type": "code",
   "execution_count": 2,
   "id": "c3569fc2",
   "metadata": {},
   "outputs": [],
   "source": [
    "# 数据类型\n",
    "number = 1\n",
    "string = 'string'\n",
    "list = [1, 2, 3]\n",
    "set = { 'you', 'i', 'he' }\n",
    "dit = { 'hello': 'hello', 'world': 100 }\n",
    "bol = True"
   ]
  },
  {
   "cell_type": "code",
   "execution_count": 3,
   "id": "bf70d592",
   "metadata": {
    "scrolled": true
   },
   "outputs": [
    {
     "name": "stdout",
     "output_type": "stream",
     "text": [
      "1\n",
      "2\n",
      "3\n"
     ]
    }
   ],
   "source": [
    "# for 循环\n",
    "list = [1, 2, 3]\n",
    "for x in list:\n",
    "    print(x)"
   ]
  },
  {
   "cell_type": "code",
   "execution_count": 7,
   "id": "dfd4991e",
   "metadata": {},
   "outputs": [
    {
     "name": "stdout",
     "output_type": "stream",
     "text": [
      "you are right\n"
     ]
    }
   ],
   "source": [
    "# if else \n",
    "string = 'hello world'\n",
    "if string == 'hello world':\n",
    "    print('you are right')\n",
    "else:\n",
    "    print('it is impossible')"
   ]
  },
  {
   "cell_type": "code",
   "execution_count": 4,
   "id": "282c71da",
   "metadata": {},
   "outputs": [
    {
     "data": {
      "text/plain": [
       "120"
      ]
     },
     "execution_count": 4,
     "metadata": {},
     "output_type": "execute_result"
    }
   ],
   "source": [
    "# 函数\n",
    "def add(numA, numB):\n",
    "    return numA + numB\n",
    "\n",
    "add(numA=20, numB=100)"
   ]
  },
  {
   "cell_type": "code",
   "execution_count": 15,
   "id": "fb0f8196",
   "metadata": {},
   "outputs": [
    {
     "name": "stdout",
     "output_type": "stream",
     "text": [
      "my name is student\n",
      "and my sex is 20\n"
     ]
    }
   ],
   "source": [
    "# class \n",
    "class Person():\n",
    "    def __init__(self, name):\n",
    "        print('my name is ' + name)\n",
    "\n",
    "class Student(Person): \n",
    "    def __init__(self, name, sex):\n",
    "        super(Student, self).__init__(name)\n",
    "        # 字符串拼接只允许字符串\n",
    "        print('and my sex is ' + str(sex))\n",
    "        \n",
    "student = Student('student', 20)\n",
    "\n",
    "        "
   ]
  },
  {
   "cell_type": "code",
   "execution_count": null,
   "id": "a3e7d070",
   "metadata": {},
   "outputs": [],
   "source": []
  }
 ],
 "metadata": {
  "kernelspec": {
   "display_name": "Python 3 (ipykernel)",
   "language": "python",
   "name": "python3"
  },
  "language_info": {
   "codemirror_mode": {
    "name": "ipython",
    "version": 3
   },
   "file_extension": ".py",
   "mimetype": "text/x-python",
   "name": "python",
   "nbconvert_exporter": "python",
   "pygments_lexer": "ipython3",
   "version": "3.11.4"
  }
 },
 "nbformat": 4,
 "nbformat_minor": 5
}

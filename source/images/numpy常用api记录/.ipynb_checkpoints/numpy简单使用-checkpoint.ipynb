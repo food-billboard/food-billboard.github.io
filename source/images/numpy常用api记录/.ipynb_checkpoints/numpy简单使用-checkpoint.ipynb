{
 "cells": [
  {
   "cell_type": "code",
   "execution_count": 10,
   "id": "7082efa3",
   "metadata": {},
   "outputs": [],
   "source": [
    "import numpy as np "
   ]
  },
  {
   "cell_type": "code",
   "execution_count": 40,
   "id": "b5023651",
   "metadata": {},
   "outputs": [],
   "source": [
    "# 创建不同层级的数组\n",
    "array1 = np.array([1, 2, 3, 4, 5, 6, 7, 8, 9])\n",
    "array2 = np.array([9, 8, 7, 6, 5, 4, 3, 2, 1])\n",
    "array3 = np.array([[1, 2, 3], [4, 5, 6], [7, 8, 9]])\n",
    "array4 = np.array([[3, 2, 1], [6, 5, 4], [9, 8, 7]])"
   ]
  },
  {
   "cell_type": "code",
   "execution_count": 29,
   "id": "0bc92f29",
   "metadata": {},
   "outputs": [
    {
     "name": "stdout",
     "output_type": "stream",
     "text": [
      "[1 2]\n",
      "[2 3 4 5 6 7 8 9]\n",
      "[2 4 6 8]\n",
      "[6 7]\n",
      "[[1 2]\n",
      " [4 5]]\n",
      "[[5 6]\n",
      " [8 9]]\n",
      "[[4 5 6]]\n",
      "[[1 2 3]]\n"
     ]
    }
   ],
   "source": [
    "# 索引取值\n",
    "print(array1[0:2])\n",
    "print(array1[1:])\n",
    "print(array1[1::2])\n",
    "print(array1[-4:-2])\n",
    "\n",
    "print(array3[0:2, :2])\n",
    "print(array3[1:, 1:])\n",
    "print(array3[1::2])\n",
    "print(array3[-4:-2])"
   ]
  },
  {
   "cell_type": "code",
   "execution_count": 56,
   "id": "8f151943",
   "metadata": {},
   "outputs": [
    {
     "name": "stdout",
     "output_type": "stream",
     "text": [
      "[10 10 10 10 10 10 10 10 10]\n",
      "[-8 -6 -4 -2  0  2  4  6  8]\n",
      "[ 9 16 21 24 25 24 21 16  9]\n",
      "[0.11111111 0.25       0.42857143 0.66666667 1.         1.5\n",
      " 2.33333333 4.         9.        ]\n",
      "[ 1  4  9 16 25 36 49 64 81]\n",
      "[1 2 3 4 0 2 1 0 0]\n",
      "[1 2 3 4 0 2 1 0 0]\n",
      "[1 2 3]\n"
     ]
    }
   ],
   "source": [
    "# 算数运算\n",
    "print(np.add(array1, array2))\n",
    "print(np.subtract(array1, array2))\n",
    "print(np.multiply(array1, array2))\n",
    "print(np.divide(array1, array2))\n",
    "print(np.power(array1, 2))\n",
    "print(np.mod(array1, array2))\n",
    "print(np.remainder(array1, array2))\n",
    "print(np.abs(np.array([-1, 2, -3])))"
   ]
  },
  {
   "cell_type": "code",
   "execution_count": 58,
   "id": "66b4b46e",
   "metadata": {},
   "outputs": [
    {
     "name": "stdout",
     "output_type": "stream",
     "text": [
      "5.0\n",
      "2.581988897471611\n",
      "6.666666666666667\n",
      "45\n",
      "362880\n",
      "9\n",
      "1\n"
     ]
    }
   ],
   "source": [
    "# 统计函数\n",
    "# 平均值\n",
    "print(np.mean(array1))\n",
    "\n",
    "# 标准差计算  \n",
    "print(np.std(array1))\n",
    "\n",
    "# 方差  \n",
    "print(np.var(array1))\n",
    "\n",
    "# 求和\n",
    "print(np.sum(array1))\n",
    "\n",
    "# 求乘积  \n",
    "print(np.prod(array1))\n",
    "\n",
    "# 最大值 最小值\n",
    "print(np.max(array1))\n",
    "print(np.min(array1))"
   ]
  },
  {
   "cell_type": "code",
   "execution_count": 32,
   "id": "2716c0fe",
   "metadata": {},
   "outputs": [],
   "source": [
    "# 随机数\n",
    "print(numpy.random.random())\n",
    "\n",
    "print(numpy.random.)"
   ]
  },
  {
   "cell_type": "code",
   "execution_count": null,
   "id": "2ec15508",
   "metadata": {},
   "outputs": [],
   "source": [
    "# 属性"
   ]
  }
 ],
 "metadata": {
  "kernelspec": {
   "display_name": "Python 3 (ipykernel)",
   "language": "python",
   "name": "python3"
  },
  "language_info": {
   "codemirror_mode": {
    "name": "ipython",
    "version": 3
   },
   "file_extension": ".py",
   "mimetype": "text/x-python",
   "name": "python",
   "nbconvert_exporter": "python",
   "pygments_lexer": "ipython3",
   "version": "3.11.4"
  }
 },
 "nbformat": 4,
 "nbformat_minor": 5
}
